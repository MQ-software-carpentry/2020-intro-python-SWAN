{
 "cells": [
  {
   "cell_type": "markdown",
   "metadata": {},
   "source": [
    "# Software Carpentry\n",
    "\n",
    "# Welcome to Jupyter Lab\n",
    "\n",
    "This is where we will do all our Python live coding.\n",
    "\n"
   ]
  },
  {
   "cell_type": "markdown",
   "metadata": {},
   "source": [
    "## Jupyter Lab\n",
    "\n",
    "Let's quickly familiarise ourselves with the enironment ... \n",
    "\n",
    "- the overal environment (i.e. your entire browser tab) is called:\n",
    "\n",
    "  *Jupyter Lab*\n",
    "  \n",
    "  it contains menus, tabs, toolbars and a file browser\n",
    "  \n",
    "- Jupyter Lab allows you to *launch* files and applications into the *Work Area*.   Right now you probably have two tabs in the *Work Area* - this document an another tab called *Launcher*.\n",
    "  \n",
    "\n"
   ]
  },
  {
   "cell_type": "markdown",
   "metadata": {},
   "source": [
    "## Juptyer Notebooks\n",
    "\n",
    "- this document is called an:\n",
    "\n",
    "  *Interactive Python Notebook* (or Notebook for short)\n",
    "\n",
    "Notebooks are a documents (files) made up of a sequence of *cells* that contain either code (Python in our case) or documentation (text, or formatted text called *markdown*).\n"
   ]
  },
  {
   "cell_type": "markdown",
   "metadata": {},
   "source": [
    "### Cells\n",
    "\n",
    "The three types of Cells are:\n",
    "\n",
    "  - *Markdown* - formatted text like this cell (with *italics*, **bold** and tables etc ...)\n",
    "  - *Raw* - like the following cell, and\n",
    "  - *Code* - (in our case) Python code \n",
    "\n",
    "Cells can be modified by simply clicking inside them and typing.\n",
    "\n",
    "See if you can change the cell below by replacing *boring* with something more exciting."
   ]
  },
  {
   "cell_type": "raw",
   "metadata": {},
   "source": [
    "RAW CELL\n",
    "\n",
    "This Cell is a 'Raw' Cell - it's just boring text."
   ]
  },
  {
   "cell_type": "markdown",
   "metadata": {},
   "source": [
    "#### Executing Cells\n",
    "\n",
    "Both *markdown* and *code* cells can be executed.\n",
    "\n",
    "Executing a *markdown* cell causes the *formatted* version of the cell to be displayed.  Executing a *code* cell causes the code to run and any results are displayed below the cell.\n",
    "\n",
    "Any cell can be executed by pressing the play icon at the top of the document while the cell is highlighted.\n",
    "\n",
    "You can also press **CTRL-ENTER/RETURN** to execute the active cell, or press **SHIFT-ENTER/RETURN** to execute the active cell and advance to the next cell.\n",
    "\n",
    "Go ahead and make some more changes to the cells above and execute them - what happens when you execute a *Raw* cell ?"
   ]
  },
  {
   "cell_type": "markdown",
   "metadata": {},
   "source": [
    "#### Adding a Removing Cells\n",
    "\n",
    "You can use the `+` (plus icon) at the top of the document to add a new cell, and use the cell type drop down the change the type.\n",
    "\n",
    "You can also use the `A` key to add cell *above* the current cell and the `B` key to add *below* the current cell.\n",
    "\n",
    "\n",
    "Now add a couple of cells of your own ..."
   ]
  },
  {
   "cell_type": "raw",
   "metadata": {},
   "source": [
    "\n",
    "\n",
    "see if you can delete this cell - tip, checkout the *Edit* menu ... or even try right-click\n",
    "\n"
   ]
  },
  {
   "cell_type": "markdown",
   "metadata": {},
   "source": [
    "#### Code Cells\n",
    "\n",
    "Code cells allow us to write (in our case Python) and run our code and see the results right inside the notebook.\n",
    "\n",
    "The next cell is a code cell that contains Python code to add 4 numbers.\n",
    "\n",
    "Try executing the cell and if gets the right result - try some more/different numbers\n"
   ]
  },
  {
   "cell_type": "code",
   "execution_count": null,
   "metadata": {},
   "outputs": [],
   "source": [
    "1 + 2 + 3 + 4"
   ]
  }
 ],
 "metadata": {
  "kernelspec": {
   "display_name": "Python 3",
   "language": "python",
   "name": "python3"
  },
  "language_info": {
   "codemirror_mode": {
    "name": "ipython",
    "version": 3
   },
   "file_extension": ".py",
   "mimetype": "text/x-python",
   "name": "python",
   "nbconvert_exporter": "python",
   "pygments_lexer": "ipython3",
   "version": "3.7.4"
  }
 },
 "nbformat": 4,
 "nbformat_minor": 4
}
